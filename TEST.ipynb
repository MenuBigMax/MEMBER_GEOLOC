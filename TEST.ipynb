{
 "cells": [
  {
   "cell_type": "code",
   "execution_count": 19,
   "metadata": {},
   "outputs": [
    {
     "data": {
      "text/plain": [
       "(array([2.000e+00, 0.000e+00, 0.000e+00, 0.000e+00, 0.000e+00, 1.000e+00,\n",
       "        0.000e+00, 0.000e+00, 0.000e+00, 0.000e+00, 1.200e+01, 0.000e+00,\n",
       "        0.000e+00, 0.000e+00, 0.000e+00, 0.000e+00, 4.300e+01, 0.000e+00,\n",
       "        0.000e+00, 0.000e+00, 0.000e+00, 1.180e+02, 0.000e+00, 0.000e+00,\n",
       "        0.000e+00, 0.000e+00, 0.000e+00, 3.020e+02, 0.000e+00, 0.000e+00,\n",
       "        0.000e+00, 0.000e+00, 6.500e+02, 0.000e+00, 0.000e+00, 0.000e+00,\n",
       "        0.000e+00, 1.172e+03, 0.000e+00, 0.000e+00, 0.000e+00, 0.000e+00,\n",
       "        0.000e+00, 1.576e+03, 0.000e+00, 0.000e+00, 0.000e+00, 0.000e+00,\n",
       "        1.928e+03, 0.000e+00, 0.000e+00, 0.000e+00, 0.000e+00, 0.000e+00,\n",
       "        1.789e+03, 0.000e+00, 0.000e+00, 0.000e+00, 0.000e+00, 1.316e+03,\n",
       "        0.000e+00, 0.000e+00, 0.000e+00, 0.000e+00, 7.110e+02, 0.000e+00,\n",
       "        0.000e+00, 0.000e+00, 0.000e+00, 0.000e+00, 2.920e+02, 0.000e+00,\n",
       "        0.000e+00, 0.000e+00, 0.000e+00, 8.100e+01, 0.000e+00, 0.000e+00,\n",
       "        0.000e+00, 0.000e+00, 7.000e+00]),\n",
       " array([ 5.        ,  5.18518519,  5.37037037,  5.55555556,  5.74074074,\n",
       "         5.92592593,  6.11111111,  6.2962963 ,  6.48148148,  6.66666667,\n",
       "         6.85185185,  7.03703704,  7.22222222,  7.40740741,  7.59259259,\n",
       "         7.77777778,  7.96296296,  8.14814815,  8.33333333,  8.51851852,\n",
       "         8.7037037 ,  8.88888889,  9.07407407,  9.25925926,  9.44444444,\n",
       "         9.62962963,  9.81481481, 10.        , 10.18518519, 10.37037037,\n",
       "        10.55555556, 10.74074074, 10.92592593, 11.11111111, 11.2962963 ,\n",
       "        11.48148148, 11.66666667, 11.85185185, 12.03703704, 12.22222222,\n",
       "        12.40740741, 12.59259259, 12.77777778, 12.96296296, 13.14814815,\n",
       "        13.33333333, 13.51851852, 13.7037037 , 13.88888889, 14.07407407,\n",
       "        14.25925926, 14.44444444, 14.62962963, 14.81481481, 15.        ,\n",
       "        15.18518519, 15.37037037, 15.55555556, 15.74074074, 15.92592593,\n",
       "        16.11111111, 16.2962963 , 16.48148148, 16.66666667, 16.85185185,\n",
       "        17.03703704, 17.22222222, 17.40740741, 17.59259259, 17.77777778,\n",
       "        17.96296296, 18.14814815, 18.33333333, 18.51851852, 18.7037037 ,\n",
       "        18.88888889, 19.07407407, 19.25925926, 19.44444444, 19.62962963,\n",
       "        19.81481481, 20.        ]),\n",
       " <a list of 81 Patch objects>)"
      ]
     },
     "execution_count": 19,
     "metadata": {},
     "output_type": "execute_result"
    },
    {
     "data": {
      "image/png": "[encoded data removed]",
      "text/plain": [
       "<Figure size 432x288 with 1 Axes>"
      ]
     },
     "metadata": {
      "needs_background": "light"
     },
     "output_type": "display_data"
    }
   ],
   "source": [
    "N=10000\n",
    "\n",
    "# random list\n",
    "import numpy as np\n",
    "x=np.random.binomial(20, 0.7, N)\n",
    "\n",
    "import matplotlib.pyplot as plt\n",
    "\n",
    "plt.hist(x=x, bins='auto')"
   ]
  },
  {
   "cell_type": "code",
   "execution_count": 1,
   "metadata": {},
   "outputs": [],
   "source": []
  },
  {
   "cell_type": "code",
   "execution_count": null,
   "metadata": {},
   "outputs": [],
   "source": []
  }
 ],
 "metadata": {
  "kernelspec": {
   "display_name": "Python 3",
   "language": "python",
   "name": "python3"
  },
  "language_info": {
   "codemirror_mode": {
    "name": "ipython",
    "version": 3
   },
   "file_extension": ".py",
   "mimetype": "text/x-python",
   "name": "python",
   "nbconvert_exporter": "python",
   "pygments_lexer": "ipython3",
   "version": "3.7.3"
  }
 },
 "nbformat": 4,
 "nbformat_minor": 2
}
